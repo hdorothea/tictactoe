{
 "cells": [
  {
   "cell_type": "markdown",
   "metadata": {},
   "source": [
    "In the case of TicTacToe a good AI would **always** draw or win. At the very least our Ai should perform better than random though."
   ]
  },
  {
   "cell_type": "code",
   "execution_count": 66,
   "metadata": {
    "collapsed": false
   },
   "outputs": [],
   "source": [
    "from player import RandomPlayer, AiPlayer\n",
    "from game import Game\n",
    "from training import train"
   ]
  },
  {
   "cell_type": "markdown",
   "metadata": {},
   "source": [
    "Lets start with win/draw/loose percentages for random players."
   ]
  },
  {
   "cell_type": "code",
   "execution_count": 67,
   "metadata": {
    "collapsed": true
   },
   "outputs": [],
   "source": [
    "random_vs_random_outcomes = []\n",
    "\n",
    "for x in range(10000):\n",
    "    winner = Game(RandomPlayer('X'), RandomPlayer('O')).play(public=False)\n",
    "    if not winner:\n",
    "        random_vs_random_outcomes.append('draw')\n",
    "    else:\n",
    "        random_vs_random_outcomes.append(winner.name)"
   ]
  },
  {
   "cell_type": "code",
   "execution_count": 68,
   "metadata": {
    "collapsed": false
   },
   "outputs": [
    {
     "name": "stdout",
     "output_type": "stream",
     "text": [
      "Random vs random\n",
      "X wins 58.2% of the time\n",
      "O wins 29.35% of the time\n",
      "12.45% of Games end in a draw\n"
     ]
    }
   ],
   "source": [
    "def print_percentages(outcomes):\n",
    "    print 'X wins {}% of the time'.format(outcomes.count('X') / float(len(outcomes))*100.0)\n",
    "    print 'O wins {}% of the time'.format(outcomes.count('O') / float(len(outcomes))*100.0)\n",
    "    print'{}% of Games end in a draw'.format(outcomes.count('draw') / float(len(outcomes))*100.0)\n",
    "\n",
    "print 'Random vs random'\n",
    "print_percentages(random_vs_random_outcomes)"
   ]
  },
  {
   "cell_type": "markdown",
   "metadata": {},
   "source": [
    "Now: how does this change if we use our trained AI?"
   ]
  },
  {
   "cell_type": "code",
   "execution_count": 69,
   "metadata": {
    "collapsed": true
   },
   "outputs": [],
   "source": [
    "training = train(100000)"
   ]
  },
  {
   "cell_type": "code",
   "execution_count": 64,
   "metadata": {
    "collapsed": false
   },
   "outputs": [],
   "source": [
    "ai_x_outcome = []\n",
    "ai_o_outcome = []\n",
    "for x in range(10000):\n",
    "    ai_x_winner = Game(AiPlayer('X', training=training), RandomPlayer('O')).play(public=False)\n",
    "    ai_o_winner = Game(RandomPlayer('X'), AiPlayer('O', training=training)).play(public=False)\n",
    "    \n",
    "    if not ai_x_winner:\n",
    "        ai_x_outcome.append('draw')\n",
    "    else:\n",
    "        ai_x_outcome.append(ai_x_winner.name)\n",
    "        \n",
    "    if not ai_o_winner:\n",
    "        ai_o_outcome.append('draw')\n",
    "    else:\n",
    "        ai_o_outcome.append(ai_o_winner.name)"
   ]
  },
  {
   "cell_type": "code",
   "execution_count": 65,
   "metadata": {
    "collapsed": false
   },
   "outputs": [
    {
     "name": "stdout",
     "output_type": "stream",
     "text": [
      "When X is the Ai player and O is a random player\n",
      "X wins 98.41% of the time\n",
      "O wins 0.0% of the time\n",
      "1.59% of Games end in a draw\n",
      "\n",
      "When O is the Ai player and X is a random player\n",
      "X wins 1.71% of the time\n",
      "O wins 87.92% of the time\n",
      "10.37% of Games end in a draw\n"
     ]
    }
   ],
   "source": [
    "print 'When X is the Ai player and O is a random player. And we train on 100000 random games'\n",
    "print_percentages(ai_x_outcome)\n",
    "print ''    \n",
    "print 'When X is a random player and O is the Ai player. And we train on 100000 random games'\n",
    "print_percentages(ai_o_outcome)\n",
    "\n"
   ]
  },
  {
   "cell_type": "markdown",
   "metadata": {},
   "source": [
    "The above values depend on how many games the Ai player is trained on and on the scores assigned for winning(in this implementation 10), loosing(-10) and drawing(8).\n",
    "\n",
    "One further interesting thing to do would be to implement an algoritmical Ai and compares this with the trained Ai."
   ]
  },
  {
   "cell_type": "code",
   "execution_count": null,
   "metadata": {
    "collapsed": true
   },
   "outputs": [],
   "source": []
  }
 ],
 "metadata": {
  "kernelspec": {
   "display_name": "Python 2",
   "language": "python",
   "name": "python2"
  },
  "language_info": {
   "codemirror_mode": {
    "name": "ipython",
    "version": 2
   },
   "file_extension": ".py",
   "mimetype": "text/x-python",
   "name": "python",
   "nbconvert_exporter": "python",
   "pygments_lexer": "ipython2",
   "version": "2.7.10"
  }
 },
 "nbformat": 4,
 "nbformat_minor": 1
}
